{
 "cells": [
  {
   "cell_type": "markdown",
   "metadata": {},
   "source": [
    "#### Write a program that solves the following problem: Three missionaries and three cannibals come to a river and find a boat that holds two people. Everyone must get across the river to continue on the journey. However, if the cannibals ever outnumber the missionaries on either bank, the missionaries will be eaten. Find a series of crossings that will get everyone safely to the other side of the river.\n"
   ]
  },
  {
   "cell_type": "code",
   "execution_count": 47,
   "metadata": {},
   "outputs": [],
   "source": [
    "def resolver(m_count, c_count):\n",
    "    first_bank_state = [m_count,c_count,1]\n",
    "    second_bank_state = [0,0,0]\n",
    "    print(first_bank_state)\n",
    "    count_if_missioners = first_bank_state[0]\n",
    "    while first_bank_state[1] !=0:\n",
    "        if first_bank_state[2] !=0:\n",
    "\n",
    "            if first_bank_state[0] == 0:\n",
    "                first_bank_state[1]-=2\n",
    "                first_bank_state[2]-=1\n",
    "                print(first_bank_state)\n",
    "            else:\n",
    "                first_bank_state[0]-=1\n",
    "                first_bank_state[1]-=1\n",
    "                first_bank_state[2]-=1\n",
    "                print(first_bank_state)\n",
    "            if second_bank_state[0]<count_if_missioners:\n",
    "                second_bank_state[0]+=1\n",
    "                print('second bank', second_bank_state)\n",
    "            else:\n",
    "                second_bank_state[1]+=1\n",
    "                print('second bank', second_bank_state)\n",
    "        else:\n",
    "            first_bank_state[1]+=1\n",
    "            first_bank_state[2]+=1\n",
    "            print(first_bank_state)\n",
    "\n",
    "    second_bank_state[1]+=1\n",
    "    print('second bank', second_bank_state)"
   ]
  },
  {
   "cell_type": "code",
   "execution_count": 49,
   "metadata": {},
   "outputs": [
    {
     "name": "stdout",
     "output_type": "stream",
     "text": [
      "[3, 3, 1]\n",
      "[2, 2, 0]\n",
      "second bank [1, 0, 0]\n",
      "[2, 3, 1]\n",
      "[1, 2, 0]\n",
      "second bank [2, 0, 0]\n",
      "[1, 3, 1]\n",
      "[0, 2, 0]\n",
      "second bank [3, 0, 0]\n",
      "[0, 3, 1]\n",
      "[0, 1, 0]\n",
      "second bank [3, 1, 0]\n",
      "[0, 2, 1]\n",
      "[0, 0, 0]\n",
      "second bank [3, 2, 0]\n",
      "second bank [3, 3, 0]\n"
     ]
    }
   ],
   "source": [
    "resolver(3,3)"
   ]
  }
 ],
 "metadata": {
  "kernelspec": {
   "display_name": "Python 3",
   "language": "python",
   "name": "python3"
  },
  "language_info": {
   "codemirror_mode": {
    "name": "ipython",
    "version": 3
   },
   "file_extension": ".py",
   "mimetype": "text/x-python",
   "name": "python",
   "nbconvert_exporter": "python",
   "pygments_lexer": "ipython3",
   "version": "3.7.6"
  }
 },
 "nbformat": 4,
 "nbformat_minor": 4
}
