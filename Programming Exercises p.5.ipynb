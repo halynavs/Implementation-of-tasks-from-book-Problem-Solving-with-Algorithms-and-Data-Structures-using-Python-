{
 "cells": [
  {
   "cell_type": "markdown",
   "metadata": {},
   "source": [
    "# Problem Solving with Algorithms and Data Structures using Python\n",
    "## Chapter 5. Recursion\n",
    "### Programming Exercises"
   ]
  },
  {
   "cell_type": "markdown",
   "metadata": {},
   "source": [
    "#### 1. Write a function that takes a string as a parameter and returns a new string that is the reverse of the old string."
   ]
  },
  {
   "cell_type": "code",
   "execution_count": 59,
   "metadata": {},
   "outputs": [
    {
     "data": {
      "text/plain": [
       "'gnir'"
      ]
     },
     "execution_count": 59,
     "metadata": {},
     "output_type": "execute_result"
    }
   ],
   "source": [
    "def reverse(string):\n",
    "    if len(string) == 1:\n",
    "        return string[0]\n",
    "    else:\n",
    "        return reverse(string[1:]) + string[0]\n",
    "    \n",
    "    \n",
    "reverse('ring')   "
   ]
  },
  {
   "cell_type": "markdown",
   "metadata": {},
   "source": [
    "#### 2. Write a function that takes a string as a parameter and returns True if the string is a palindrome, False otherwise."
   ]
  },
  {
   "cell_type": "code",
   "execution_count": 53,
   "metadata": {},
   "outputs": [
    {
     "name": "stdout",
     "output_type": "stream",
     "text": [
      "True\n",
      "True\n",
      "True\n",
      "False\n",
      "False\n",
      "True\n"
     ]
    }
   ],
   "source": [
    "\n",
    "\n",
    "def check_if_palindrome(string):\n",
    "    if \" \" in string:\n",
    "        string=str(string).replace(\" \", \"\")\n",
    "    if not str(string).islower():\n",
    "        string=str(string).lower()\n",
    "    l = list(string)\n",
    "    if len(string)<=1:\n",
    "        return True\n",
    "    else:\n",
    "\n",
    "        if l.pop() == l.pop(0):\n",
    "            return check_if_palindrome(l)\n",
    "        else:\n",
    "            return False\n",
    "    \n",
    "    \n",
    "\n",
    "print(check_if_palindrome('gkayakg'))\n",
    "print(check_if_palindrome('Live not on evil'))\n",
    "print(check_if_palindrome('Able was I ere I saw Elba'))\n",
    "print(check_if_palindrome('Kdxfcghjakanak'))\n",
    "print(check_if_palindrome('K fcghj Kanak'))\n",
    "print(check_if_palindrome(''))\n",
    "\n"
   ]
  },
  {
   "cell_type": "code",
   "execution_count": 1,
   "metadata": {},
   "outputs": [],
   "source": [
    "import turtle\n",
    "\n",
    "def drawTriangle(points,color,myTurtle):\n",
    "    myTurtle.fillcolor(color)\n",
    "    myTurtle.up()\n",
    "    myTurtle.goto(points[0][0],points[0][1])\n",
    "    myTurtle.down()\n",
    "    myTurtle.begin_fill()\n",
    "    myTurtle.goto(points[1][0],points[1][1])\n",
    "    myTurtle.goto(points[2][0],points[2][1])\n",
    "    myTurtle.goto(points[0][0],points[0][1])\n",
    "    myTurtle.end_fill()\n",
    "\n",
    "def getMid(p1,p2):\n",
    "    #print ( (p1[0]+p2[0]) / 2, (p1[1] + p2[1]) / 2)\n",
    "    return ( (p1[0]+p2[0]) / 2, (p1[1] + p2[1]) / 2)\n",
    "\n",
    "def sierpinski(points,degree,myTurtle):\n",
    "    colormap = ['blue','red','green','white','yellow',\n",
    "                'violet','orange']\n",
    "    drawTriangle(points,colormap[degree],myTurtle)\n",
    "    if degree > 0:\n",
    "        sierpinski([points[0],\n",
    "                        getMid(points[0], points[1]),\n",
    "                        getMid(points[0], points[2])],\n",
    "                   degree-1, myTurtle)\n",
    "        sierpinski([points[1],\n",
    "                        getMid(points[0], points[1]),\n",
    "                        getMid(points[1], points[2])],\n",
    "                   degree-1, myTurtle)\n",
    "        sierpinski([points[2],\n",
    "                        getMid(points[2], points[1]),\n",
    "                        getMid(points[0], points[2])],\n",
    "                   degree-1, myTurtle)\n",
    "\n",
    "def main():\n",
    "   myTurtle = turtle.Turtle()\n",
    "   myWin = turtle.Screen()\n",
    "   myPoints = [[-100,-50],[0,100],[100,-50]]\n",
    "   sierpinski(myPoints,3,myTurtle)\n",
    "   myWin.exitonclick()\n",
    "\n",
    "main()\n"
   ]
  },
  {
   "cell_type": "markdown",
   "metadata": {},
   "source": [
    "#### 3. Write a recursive function to compute the factorial of a number."
   ]
  },
  {
   "cell_type": "code",
   "execution_count": 10,
   "metadata": {},
   "outputs": [
    {
     "name": "stdout",
     "output_type": "stream",
     "text": [
      "720\n"
     ]
    }
   ],
   "source": [
    "def get_factorial(number):\n",
    "    if number == 0 or number == 1:\n",
    "        return 1\n",
    "    else: \n",
    "        return get_factorial(number - 1)*number\n",
    "    \n",
    "print(get_factorial(6))"
   ]
  },
  {
   "cell_type": "markdown",
   "metadata": {},
   "source": [
    "#### 4. Write a function to reverse a list."
   ]
  },
  {
   "cell_type": "code",
   "execution_count": 37,
   "metadata": {},
   "outputs": [
    {
     "name": "stdout",
     "output_type": "stream",
     "text": [
      "[] [3, True, '1']\n"
     ]
    }
   ],
   "source": [
    "def reverse_list(input_list):\n",
    "    reversed_list = [] \n",
    "    while len(input_list)>0:\n",
    "        reversed_list.append(input_list.pop())\n",
    "    return reversed_list\n",
    "   \n",
    "    \n",
    "my_list = ['1',True, 3]\n",
    "print(my_list, reverse_list(my_list))\n"
   ]
  },
  {
   "cell_type": "code",
   "execution_count": 40,
   "metadata": {},
   "outputs": [
    {
     "name": "stdout",
     "output_type": "stream",
     "text": [
      "['1', True, 3] [3, True, '1']\n"
     ]
    }
   ],
   "source": [
    "def reverse_list(input_list):\n",
    "    reversed_list = [] \n",
    "    for i in range(len(input_list)):\n",
    "        reversed_list.append(input_list[-1-i])\n",
    "    return reversed_list\n",
    "   \n",
    "    \n",
    "my_list = ['1',True, 3]\n",
    "print(my_list, reverse_list(my_list))\n"
   ]
  },
  {
   "cell_type": "markdown",
   "metadata": {},
   "source": [
    "#### 5. Write a recursive function to reverse a list."
   ]
  },
  {
   "cell_type": "code",
   "execution_count": 88,
   "metadata": {},
   "outputs": [
    {
     "name": "stdout",
     "output_type": "stream",
     "text": [
      "['1', True, 3] and [3, True, '1']\n",
      "[] and []\n",
      "[34] and [34]\n",
      " and \n"
     ]
    }
   ],
   "source": [
    "def reverse_list(input_list): \n",
    "    if len(input_list)<=1:\n",
    "        return input_list\n",
    "    else:\n",
    "        return input_list[-1:]+reverse_list(input_list[:-1])\n",
    "\n",
    "   \n",
    "    \n",
    "my_list = ['1',True, 3]\n",
    "print(my_list, 'and', reverse_list(my_list))\n",
    "my_list = []\n",
    "print(my_list, 'and', reverse_list(my_list))\n",
    "my_list = [34]\n",
    "print(my_list, 'and', reverse_list(my_list))\n",
    "my_list = [34, '111']\n",
    "print(my_list, 'and', reverse_list(my_list))"
   ]
  },
  {
   "cell_type": "markdown",
   "metadata": {},
   "source": [
    "#### 6. Write a recursive function to compute the Fibonacci sequence. How does the performance of the recursive function compare to that of an iterative version?"
   ]
  },
  {
   "cell_type": "code",
   "execution_count": 142,
   "metadata": {},
   "outputs": [
    {
     "name": "stdout",
     "output_type": "stream",
     "text": [
      "[0, 1, 1, 2, 3]\n"
     ]
    }
   ],
   "source": [
    "def get_fibonacci_sequence(count):\n",
    "    \n",
    "    if count==0:\n",
    "        base = []\n",
    "    elif count==1:\n",
    "        base = [0]\n",
    "    elif count==2:\n",
    "        base = [0,1]\n",
    "    if count >=2:\n",
    "        base = [0,1]\n",
    "        for i in range(count-2):\n",
    "            base.append(base[-1]+base[-2])\n",
    "            \n",
    "    return base\n",
    "    \n",
    "print(get_fibonacci_sequence(5))   \n",
    "    "
   ]
  },
  {
   "cell_type": "markdown",
   "metadata": {},
   "source": [
    " ##### recursive function"
   ]
  },
  {
   "cell_type": "code",
   "execution_count": 144,
   "metadata": {},
   "outputs": [
    {
     "name": "stdout",
     "output_type": "stream",
     "text": [
      "[0, 1, 1, 2, 3]\n"
     ]
    }
   ],
   "source": [
    "def f(num):\n",
    "    if num == 0:\n",
    "        return num \n",
    "    if num == 1:\n",
    "        return num \n",
    "    else:\n",
    "        return f(num-1)+f(num-2)\n",
    "\n",
    "count = 5\n",
    "sequence = []\n",
    "for i in range(count):\n",
    "    sequence.append((f(i)))\n",
    "print(sequence)"
   ]
  },
  {
   "cell_type": "markdown",
   "metadata": {},
   "source": [
    "##### iteration function"
   ]
  },
  {
   "cell_type": "code",
   "execution_count": 149,
   "metadata": {},
   "outputs": [
    {
     "name": "stdout",
     "output_type": "stream",
     "text": [
      "5\n",
      "[0, 1, 1, 2, 3]\n"
     ]
    }
   ],
   "source": [
    "def fi(num):\n",
    "    old, new = 0, 1\n",
    "    if num ==0:\n",
    "        return 0\n",
    "    for i in range(num-1):\n",
    "        old, new = new, new+old\n",
    "    return new\n",
    "        \n",
    "count = 5\n",
    "sequence = []\n",
    "for i in range(count):\n",
    "    sequence.append((fi(i)))\n",
    "print(sequence)"
   ]
  },
  {
   "cell_type": "markdown",
   "metadata": {},
   "source": [
    "##### 7. Design and implement an experiment that will compare the performance of recursion and iteration realizations of Fibonacci sequence "
   ]
  },
  {
   "cell_type": "code",
   "execution_count": 177,
   "metadata": {},
   "outputs": [
    {
     "name": "stdout",
     "output_type": "stream",
     "text": [
      "[0.0005006999999750406, 0.007194099998741876, 0.001195900000311667, 0.0006558999994012993, 0.0053585999994538724, 0.00011679999988700729, 0.0009542000007058959, 0.00479059999997844, 0.00029829999948560726, 0.0042971000002580695]\n",
      "[0.0005602000001090346, 0.0006188999996084021, 0.0005963999992673052, 0.0004549999994196696, 0.0005539000012504403, 0.0002647000001161359, 0.00044970000089961104, 0.0005189000003156252, 0.0003316999991511693, 0.0004948999994667247]\n"
     ]
    },
    {
     "data": {
      "image/png": "[encoded data removed]",
      "text/plain": [
       "<Figure size 432x288 with 1 Axes>"
      ]
     },
     "metadata": {
      "needs_background": "light"
     },
     "output_type": "display_data"
    }
   ],
   "source": [
    "\n",
    "from timeit import Timer\n",
    "import random \n",
    "import matplotlib.pyplot as plt\n",
    "\n",
    "time1 = []\n",
    "time2 = []\n",
    "for i in range(10):\n",
    "    x = random.randrange(10)\n",
    "    t1 = Timer('f(x)', globals=globals())\n",
    "    time1.append(t1.timeit(number=1000))\n",
    "    t2 = Timer('fi(x)', globals=globals())\n",
    "    time2.append(t2.timeit(number=1000))\n",
    "    \n",
    "print(time1)\n",
    "print(time2)\n",
    "\n",
    "plt.plot(time1, 'g^', label=\"recursive\")\n",
    "plt.plot(time2, 'r^', label=\"iterative\")\n",
    "plt.legend(bbox_to_anchor=(1.05, 1), loc='upper left', borderaxespad=0.)\n",
    "\n",
    "plt.ylabel('Running time')\n",
    "plt.xlabel('Epoch')\n",
    "plt.title('Performance')\n",
    "plt.ylabel('Running time')\n",
    "\n",
    "plt.show()"
   ]
  },
  {
   "cell_type": "markdown",
   "metadata": {},
   "source": [
    "#### 8. Write a program to solve the following problem: You have two jugs: a 4-gallon jug and a 3-gallon jug. Neither of the jugs have markings on them. There is a pump that can be used to fill the jugs with water. How can you get exactly two gallons of water in the 4-gallon jug?"
   ]
  },
  {
   "cell_type": "code",
   "execution_count": 68,
   "metadata": {},
   "outputs": [
    {
     "name": "stdout",
     "output_type": "stream",
     "text": [
      "\u001b[1m STATE 0 \u001b[0m\n",
      "4-gallon jug fullness: 0\n",
      "3-gallon jug fullness: 0 \n",
      "\n",
      "\u001b[1m STATE 1 \u001b[0m\n",
      "4-gallon jug fullness: 0\n",
      "3-gallon jug fullness: 3 \n",
      "\n",
      "\u001b[1m STATE 2 \u001b[0m\n",
      "4-gallon jug fullness: 3\n",
      "3-gallon jug fullness: 0 \n",
      "\n",
      "\u001b[1m STATE 3 \u001b[0m\n",
      "4-gallon jug fullness: 3\n",
      "3-gallon jug fullness: 3 \n",
      "\n",
      "\u001b[1m STATE 4 \u001b[0m\n",
      "4-gallon jug fullness: 4\n",
      "3-gallon jug fullness: 2 \n",
      "\n",
      "\u001b[1m STATE 5 \u001b[0m\n",
      "4-gallon jug fullness: 0\n",
      "3-gallon jug fullness: 2 \n",
      "\n",
      "\u001b[1m STATE 6 \u001b[0m\n",
      "4-gallon jug fullness: 2\n",
      "3-gallon jug fullness: 0 \n",
      "\n"
     ]
    }
   ],
   "source": [
    "class jug():\n",
    "    def __init__(self, capacity):\n",
    "        self.capacity = capacity\n",
    "        self.current_fullness = 0\n",
    "        \n",
    "    def poor_one_gallon(self):\n",
    "        if  self.current_fullness< self.capacity:\n",
    "            self.current_fullness += 1\n",
    "        else:\n",
    "            print('Jug is full')\n",
    "            \n",
    "    def get_fullness(self):\n",
    "        return self.current_fullness\n",
    "    \n",
    "    def get_capacity(self):\n",
    "        return self.capacity\n",
    "    \n",
    "    def poor_one_gallon_out(self):\n",
    "        self.current_fullness -= 1\n",
    "    \n",
    "    \n",
    "    def poor_out(self):\n",
    "        self.current_fullness = 0\n",
    "        \n",
    "    def poor_from_one_to_another(self, another_jug):\n",
    "        i=0\n",
    "        while self.current_fullness< self.capacity and (i<=another_jug.get_fullness()+1):\n",
    "            #print(another_jug.get_fullness())\n",
    "            self.poor_one_gallon()\n",
    "            another_jug.poor_one_gallon_out()\n",
    "            i+=1\n",
    "\n",
    "state = 0       \n",
    "print(\"\\033[1m\",'STATE', state, \"\\033[0m\")      \n",
    "jug4 = jug(4)\n",
    "jug3 = jug(3)\n",
    "print('4-gallon jug fullness:', jug4.get_fullness())\n",
    "print('3-gallon jug fullness:', jug3.get_fullness(), '\\n')\n",
    "\n",
    "\n",
    "while jug3.get_fullness()!=2 or not jug4.get_fullness()!=2:\n",
    "    state +=1\n",
    "    print(\"\\033[1m\",'STATE', state, \"\\033[0m\")\n",
    "    for i in range(jug3.get_capacity()):\n",
    "        jug3.poor_one_gallon()\n",
    "    print('4-gallon jug fullness:', jug4.get_fullness())\n",
    "    print('3-gallon jug fullness:', jug3.get_fullness(), '\\n')\n",
    "    state +=1\n",
    "    print(\"\\033[1m\",'STATE', state, \"\\033[0m\")\n",
    "    jug4.poor_from_one_to_another(jug3)\n",
    "    print('4-gallon jug fullness:', jug4.get_fullness())\n",
    "    print('3-gallon jug fullness:', jug3.get_fullness(), '\\n')\n",
    "    \n",
    "state +=1\n",
    "print(\"\\033[1m\",'STATE', state, \"\\033[0m\")\n",
    "jug4.poor_out()\n",
    "print('4-gallon jug fullness:', jug4.get_fullness())\n",
    "print('3-gallon jug fullness:', jug3.get_fullness(), '\\n')\n",
    "\n",
    "state +=1\n",
    "print(\"\\033[1m\",'STATE', state, \"\\033[0m\")\n",
    "if jug3.get_fullness()==2:\n",
    "    jug4.poor_from_one_to_another(jug3)\n",
    "print('4-gallon jug fullness:', jug4.get_fullness())\n",
    "print('3-gallon jug fullness:', jug3.get_fullness(), '\\n')"
   ]
  },
  {
   "cell_type": "code",
   "execution_count": null,
   "metadata": {},
   "outputs": [],
   "source": []
  }
 ],
 "metadata": {
  "kernelspec": {
   "display_name": "Python 3",
   "language": "python",
   "name": "python3"
  },
  "language_info": {
   "codemirror_mode": {
    "name": "ipython",
    "version": 3
   },
   "file_extension": ".py",
   "mimetype": "text/x-python",
   "name": "python",
   "nbconvert_exporter": "python",
   "pygments_lexer": "ipython3",
   "version": "3.7.6"
  }
 },
 "nbformat": 4,
 "nbformat_minor": 4
}
